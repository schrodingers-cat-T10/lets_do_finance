{
 "cells": [
  {
   "cell_type": "code",
   "execution_count": 153,
   "metadata": {
    "execution": {
     "iopub.execute_input": "2025-01-06T14:03:58.865763Z",
     "iopub.status.busy": "2025-01-06T14:03:58.865451Z",
     "iopub.status.idle": "2025-01-06T14:03:58.877731Z",
     "shell.execute_reply": "2025-01-06T14:03:58.876637Z",
     "shell.execute_reply.started": "2025-01-06T14:03:58.865731Z"
    },
    "trusted": true
   },
   "outputs": [],
   "source": [
    "import pandas as pd \n",
    "import numpy as np\n",
    "import matplotlib.pyplot as plt\n",
    "from tensorflow.keras.layers import Dense,Conv1D,LSTM,GRU,Flatten,MaxPooling2D,Conv2D\n",
    "from tensorflow.keras.models import Sequential\n",
    "from tensorflow.keras.optimizers import Adam\n",
    "from sklearn.model_selection import train_test_split\n",
    "from sklearn.preprocessing import StandardScaler\n",
    "from sklearn.decomposition  import PCA\n",
    "from sklearn.preprocessing import LabelEncoder"
   ]
  },
  {
   "cell_type": "code",
   "execution_count": 154,
   "metadata": {
    "execution": {
     "iopub.execute_input": "2025-01-06T14:03:58.880014Z",
     "iopub.status.busy": "2025-01-06T14:03:58.879628Z",
     "iopub.status.idle": "2025-01-06T14:03:58.917607Z",
     "shell.execute_reply": "2025-01-06T14:03:58.916732Z",
     "shell.execute_reply.started": "2025-01-06T14:03:58.879986Z"
    },
    "trusted": true
   },
   "outputs": [
    {
     "data": {
      "text/html": [
       "<div>\n",
       "<style scoped>\n",
       "    .dataframe tbody tr th:only-of-type {\n",
       "        vertical-align: middle;\n",
       "    }\n",
       "\n",
       "    .dataframe tbody tr th {\n",
       "        vertical-align: top;\n",
       "    }\n",
       "\n",
       "    .dataframe thead th {\n",
       "        text-align: right;\n",
       "    }\n",
       "</style>\n",
       "<table border=\"1\" class=\"dataframe\">\n",
       "  <thead>\n",
       "    <tr style=\"text-align: right;\">\n",
       "      <th></th>\n",
       "      <th>id</th>\n",
       "      <th>Date</th>\n",
       "      <th>Open</th>\n",
       "      <th>High</th>\n",
       "      <th>Low</th>\n",
       "      <th>Close</th>\n",
       "      <th>Volume</th>\n",
       "      <th>Dividends</th>\n",
       "      <th>Stock Splits</th>\n",
       "    </tr>\n",
       "  </thead>\n",
       "  <tbody>\n",
       "    <tr>\n",
       "      <th>0</th>\n",
       "      <td>Stock_0000</td>\n",
       "      <td>2014-12-29 00:00:00+0530</td>\n",
       "      <td>8214.700195</td>\n",
       "      <td>8279.150391</td>\n",
       "      <td>8214.700195</td>\n",
       "      <td>8246.299805</td>\n",
       "      <td>82100</td>\n",
       "      <td>0.0</td>\n",
       "      <td>0.0</td>\n",
       "    </tr>\n",
       "    <tr>\n",
       "      <th>1</th>\n",
       "      <td>Stock_0001</td>\n",
       "      <td>2014-12-30 00:00:00+0530</td>\n",
       "      <td>8260.299805</td>\n",
       "      <td>8268.250000</td>\n",
       "      <td>8220.549805</td>\n",
       "      <td>8248.250000</td>\n",
       "      <td>77700</td>\n",
       "      <td>0.0</td>\n",
       "      <td>0.0</td>\n",
       "    </tr>\n",
       "    <tr>\n",
       "      <th>2</th>\n",
       "      <td>Stock_0002</td>\n",
       "      <td>2014-12-31 00:00:00+0530</td>\n",
       "      <td>8243.900391</td>\n",
       "      <td>8291.000000</td>\n",
       "      <td>8243.750000</td>\n",
       "      <td>8282.700195</td>\n",
       "      <td>84500</td>\n",
       "      <td>0.0</td>\n",
       "      <td>0.0</td>\n",
       "    </tr>\n",
       "    <tr>\n",
       "      <th>3</th>\n",
       "      <td>Stock_0003</td>\n",
       "      <td>2015-01-02 00:00:00+0530</td>\n",
       "      <td>8288.700195</td>\n",
       "      <td>8410.599609</td>\n",
       "      <td>8288.700195</td>\n",
       "      <td>8395.450195</td>\n",
       "      <td>101900</td>\n",
       "      <td>0.0</td>\n",
       "      <td>0.0</td>\n",
       "    </tr>\n",
       "    <tr>\n",
       "      <th>4</th>\n",
       "      <td>Stock_0004</td>\n",
       "      <td>2015-01-05 00:00:00+0530</td>\n",
       "      <td>8407.950195</td>\n",
       "      <td>8445.599609</td>\n",
       "      <td>8363.900391</td>\n",
       "      <td>8378.400391</td>\n",
       "      <td>118200</td>\n",
       "      <td>0.0</td>\n",
       "      <td>0.0</td>\n",
       "    </tr>\n",
       "    <tr>\n",
       "      <th>5</th>\n",
       "      <td>Stock_0005</td>\n",
       "      <td>2015-01-06 00:00:00+0530</td>\n",
       "      <td>8325.299805</td>\n",
       "      <td>8327.849609</td>\n",
       "      <td>8111.350098</td>\n",
       "      <td>8127.350098</td>\n",
       "      <td>172800</td>\n",
       "      <td>0.0</td>\n",
       "      <td>0.0</td>\n",
       "    </tr>\n",
       "    <tr>\n",
       "      <th>6</th>\n",
       "      <td>Stock_0006</td>\n",
       "      <td>2015-01-07 00:00:00+0530</td>\n",
       "      <td>8118.649902</td>\n",
       "      <td>8151.200195</td>\n",
       "      <td>8065.450195</td>\n",
       "      <td>8102.100098</td>\n",
       "      <td>164100</td>\n",
       "      <td>0.0</td>\n",
       "      <td>0.0</td>\n",
       "    </tr>\n",
       "    <tr>\n",
       "      <th>7</th>\n",
       "      <td>Stock_0007</td>\n",
       "      <td>2015-01-08 00:00:00+0530</td>\n",
       "      <td>8191.399902</td>\n",
       "      <td>8243.500000</td>\n",
       "      <td>8167.299805</td>\n",
       "      <td>8234.599609</td>\n",
       "      <td>143800</td>\n",
       "      <td>0.0</td>\n",
       "      <td>0.0</td>\n",
       "    </tr>\n",
       "    <tr>\n",
       "      <th>8</th>\n",
       "      <td>Stock_0008</td>\n",
       "      <td>2015-01-09 00:00:00+0530</td>\n",
       "      <td>8285.450195</td>\n",
       "      <td>8303.299805</td>\n",
       "      <td>8190.799805</td>\n",
       "      <td>8284.500000</td>\n",
       "      <td>148000</td>\n",
       "      <td>0.0</td>\n",
       "      <td>0.0</td>\n",
       "    </tr>\n",
       "    <tr>\n",
       "      <th>9</th>\n",
       "      <td>Stock_0009</td>\n",
       "      <td>2015-01-12 00:00:00+0530</td>\n",
       "      <td>8291.349609</td>\n",
       "      <td>8332.599609</td>\n",
       "      <td>8245.599609</td>\n",
       "      <td>8323.000000</td>\n",
       "      <td>103200</td>\n",
       "      <td>0.0</td>\n",
       "      <td>0.0</td>\n",
       "    </tr>\n",
       "  </tbody>\n",
       "</table>\n",
       "</div>"
      ],
      "text/plain": [
       "           id                      Date         Open         High  \\\n",
       "0  Stock_0000  2014-12-29 00:00:00+0530  8214.700195  8279.150391   \n",
       "1  Stock_0001  2014-12-30 00:00:00+0530  8260.299805  8268.250000   \n",
       "2  Stock_0002  2014-12-31 00:00:00+0530  8243.900391  8291.000000   \n",
       "3  Stock_0003  2015-01-02 00:00:00+0530  8288.700195  8410.599609   \n",
       "4  Stock_0004  2015-01-05 00:00:00+0530  8407.950195  8445.599609   \n",
       "5  Stock_0005  2015-01-06 00:00:00+0530  8325.299805  8327.849609   \n",
       "6  Stock_0006  2015-01-07 00:00:00+0530  8118.649902  8151.200195   \n",
       "7  Stock_0007  2015-01-08 00:00:00+0530  8191.399902  8243.500000   \n",
       "8  Stock_0008  2015-01-09 00:00:00+0530  8285.450195  8303.299805   \n",
       "9  Stock_0009  2015-01-12 00:00:00+0530  8291.349609  8332.599609   \n",
       "\n",
       "           Low        Close  Volume  Dividends  Stock Splits  \n",
       "0  8214.700195  8246.299805   82100        0.0           0.0  \n",
       "1  8220.549805  8248.250000   77700        0.0           0.0  \n",
       "2  8243.750000  8282.700195   84500        0.0           0.0  \n",
       "3  8288.700195  8395.450195  101900        0.0           0.0  \n",
       "4  8363.900391  8378.400391  118200        0.0           0.0  \n",
       "5  8111.350098  8127.350098  172800        0.0           0.0  \n",
       "6  8065.450195  8102.100098  164100        0.0           0.0  \n",
       "7  8167.299805  8234.599609  143800        0.0           0.0  \n",
       "8  8190.799805  8284.500000  148000        0.0           0.0  \n",
       "9  8245.599609  8323.000000  103200        0.0           0.0  "
      ]
     },
     "execution_count": 154,
     "metadata": {},
     "output_type": "execute_result"
    }
   ],
   "source": [
    "data = pd.read_csv(\"/kaggle/input/xdbfkjs-db/train.csv\")\n",
    "data.head(10)"
   ]
  },
  {
   "cell_type": "code",
   "execution_count": 155,
   "metadata": {
    "execution": {
     "iopub.execute_input": "2025-01-06T14:03:58.919171Z",
     "iopub.status.busy": "2025-01-06T14:03:58.918840Z",
     "iopub.status.idle": "2025-01-06T14:03:58.936395Z",
     "shell.execute_reply": "2025-01-06T14:03:58.935317Z",
     "shell.execute_reply.started": "2025-01-06T14:03:58.919146Z"
    },
    "trusted": true
   },
   "outputs": [
    {
     "data": {
      "text/html": [
       "<div>\n",
       "<style scoped>\n",
       "    .dataframe tbody tr th:only-of-type {\n",
       "        vertical-align: middle;\n",
       "    }\n",
       "\n",
       "    .dataframe tbody tr th {\n",
       "        vertical-align: top;\n",
       "    }\n",
       "\n",
       "    .dataframe thead th {\n",
       "        text-align: right;\n",
       "    }\n",
       "</style>\n",
       "<table border=\"1\" class=\"dataframe\">\n",
       "  <thead>\n",
       "    <tr style=\"text-align: right;\">\n",
       "      <th></th>\n",
       "      <th>id</th>\n",
       "      <th>Date</th>\n",
       "      <th>Open</th>\n",
       "      <th>High</th>\n",
       "      <th>Low</th>\n",
       "      <th>Close</th>\n",
       "      <th>Volume</th>\n",
       "      <th>Dividends</th>\n",
       "      <th>Stock Splits</th>\n",
       "    </tr>\n",
       "  </thead>\n",
       "  <tbody>\n",
       "    <tr>\n",
       "      <th>0</th>\n",
       "      <td>Stock_0000</td>\n",
       "      <td>2014-12-29 00:00:00+0530</td>\n",
       "      <td>8214.700195</td>\n",
       "      <td>8279.150391</td>\n",
       "      <td>8214.700195</td>\n",
       "      <td>8246.299805</td>\n",
       "      <td>82100</td>\n",
       "      <td>0.0</td>\n",
       "      <td>0.0</td>\n",
       "    </tr>\n",
       "    <tr>\n",
       "      <th>1</th>\n",
       "      <td>Stock_0001</td>\n",
       "      <td>2014-12-30 00:00:00+0530</td>\n",
       "      <td>8260.299805</td>\n",
       "      <td>8268.250000</td>\n",
       "      <td>8220.549805</td>\n",
       "      <td>8248.250000</td>\n",
       "      <td>77700</td>\n",
       "      <td>0.0</td>\n",
       "      <td>0.0</td>\n",
       "    </tr>\n",
       "    <tr>\n",
       "      <th>2</th>\n",
       "      <td>Stock_0002</td>\n",
       "      <td>2014-12-31 00:00:00+0530</td>\n",
       "      <td>8243.900391</td>\n",
       "      <td>8291.000000</td>\n",
       "      <td>8243.750000</td>\n",
       "      <td>8282.700195</td>\n",
       "      <td>84500</td>\n",
       "      <td>0.0</td>\n",
       "      <td>0.0</td>\n",
       "    </tr>\n",
       "    <tr>\n",
       "      <th>3</th>\n",
       "      <td>Stock_0003</td>\n",
       "      <td>2015-01-02 00:00:00+0530</td>\n",
       "      <td>8288.700195</td>\n",
       "      <td>8410.599609</td>\n",
       "      <td>8288.700195</td>\n",
       "      <td>8395.450195</td>\n",
       "      <td>101900</td>\n",
       "      <td>0.0</td>\n",
       "      <td>0.0</td>\n",
       "    </tr>\n",
       "    <tr>\n",
       "      <th>4</th>\n",
       "      <td>Stock_0004</td>\n",
       "      <td>2015-01-05 00:00:00+0530</td>\n",
       "      <td>8407.950195</td>\n",
       "      <td>8445.599609</td>\n",
       "      <td>8363.900391</td>\n",
       "      <td>8378.400391</td>\n",
       "      <td>118200</td>\n",
       "      <td>0.0</td>\n",
       "      <td>0.0</td>\n",
       "    </tr>\n",
       "    <tr>\n",
       "      <th>...</th>\n",
       "      <td>...</td>\n",
       "      <td>...</td>\n",
       "      <td>...</td>\n",
       "      <td>...</td>\n",
       "      <td>...</td>\n",
       "      <td>...</td>\n",
       "      <td>...</td>\n",
       "      <td>...</td>\n",
       "      <td>...</td>\n",
       "    </tr>\n",
       "    <tr>\n",
       "      <th>1963</th>\n",
       "      <td>Stock_1963</td>\n",
       "      <td>2022-12-21 00:00:00+0530</td>\n",
       "      <td>18435.150391</td>\n",
       "      <td>18473.349609</td>\n",
       "      <td>18162.750000</td>\n",
       "      <td>18199.099609</td>\n",
       "      <td>187600</td>\n",
       "      <td>0.0</td>\n",
       "      <td>0.0</td>\n",
       "    </tr>\n",
       "    <tr>\n",
       "      <th>1964</th>\n",
       "      <td>Stock_1964</td>\n",
       "      <td>2022-12-22 00:00:00+0530</td>\n",
       "      <td>18288.800781</td>\n",
       "      <td>18318.750000</td>\n",
       "      <td>18068.599609</td>\n",
       "      <td>18127.349609</td>\n",
       "      <td>195700</td>\n",
       "      <td>0.0</td>\n",
       "      <td>0.0</td>\n",
       "    </tr>\n",
       "    <tr>\n",
       "      <th>1965</th>\n",
       "      <td>Stock_1965</td>\n",
       "      <td>2022-12-23 00:00:00+0530</td>\n",
       "      <td>17977.650391</td>\n",
       "      <td>18050.449219</td>\n",
       "      <td>17779.500000</td>\n",
       "      <td>17806.800781</td>\n",
       "      <td>221500</td>\n",
       "      <td>0.0</td>\n",
       "      <td>0.0</td>\n",
       "    </tr>\n",
       "    <tr>\n",
       "      <th>1966</th>\n",
       "      <td>Stock_1966</td>\n",
       "      <td>2022-12-26 00:00:00+0530</td>\n",
       "      <td>17830.400391</td>\n",
       "      <td>18084.099609</td>\n",
       "      <td>17774.250000</td>\n",
       "      <td>18014.599609</td>\n",
       "      <td>176700</td>\n",
       "      <td>0.0</td>\n",
       "      <td>0.0</td>\n",
       "    </tr>\n",
       "    <tr>\n",
       "      <th>1967</th>\n",
       "      <td>Stock_1967</td>\n",
       "      <td>2022-12-27 00:00:00+0530</td>\n",
       "      <td>18089.800781</td>\n",
       "      <td>18149.250000</td>\n",
       "      <td>17967.449219</td>\n",
       "      <td>18132.300781</td>\n",
       "      <td>214300</td>\n",
       "      <td>0.0</td>\n",
       "      <td>0.0</td>\n",
       "    </tr>\n",
       "  </tbody>\n",
       "</table>\n",
       "<p>1968 rows × 9 columns</p>\n",
       "</div>"
      ],
      "text/plain": [
       "              id                      Date          Open          High  \\\n",
       "0     Stock_0000  2014-12-29 00:00:00+0530   8214.700195   8279.150391   \n",
       "1     Stock_0001  2014-12-30 00:00:00+0530   8260.299805   8268.250000   \n",
       "2     Stock_0002  2014-12-31 00:00:00+0530   8243.900391   8291.000000   \n",
       "3     Stock_0003  2015-01-02 00:00:00+0530   8288.700195   8410.599609   \n",
       "4     Stock_0004  2015-01-05 00:00:00+0530   8407.950195   8445.599609   \n",
       "...          ...                       ...           ...           ...   \n",
       "1963  Stock_1963  2022-12-21 00:00:00+0530  18435.150391  18473.349609   \n",
       "1964  Stock_1964  2022-12-22 00:00:00+0530  18288.800781  18318.750000   \n",
       "1965  Stock_1965  2022-12-23 00:00:00+0530  17977.650391  18050.449219   \n",
       "1966  Stock_1966  2022-12-26 00:00:00+0530  17830.400391  18084.099609   \n",
       "1967  Stock_1967  2022-12-27 00:00:00+0530  18089.800781  18149.250000   \n",
       "\n",
       "               Low         Close  Volume  Dividends  Stock Splits  \n",
       "0      8214.700195   8246.299805   82100        0.0           0.0  \n",
       "1      8220.549805   8248.250000   77700        0.0           0.0  \n",
       "2      8243.750000   8282.700195   84500        0.0           0.0  \n",
       "3      8288.700195   8395.450195  101900        0.0           0.0  \n",
       "4      8363.900391   8378.400391  118200        0.0           0.0  \n",
       "...            ...           ...     ...        ...           ...  \n",
       "1963  18162.750000  18199.099609  187600        0.0           0.0  \n",
       "1964  18068.599609  18127.349609  195700        0.0           0.0  \n",
       "1965  17779.500000  17806.800781  221500        0.0           0.0  \n",
       "1966  17774.250000  18014.599609  176700        0.0           0.0  \n",
       "1967  17967.449219  18132.300781  214300        0.0           0.0  \n",
       "\n",
       "[1968 rows x 9 columns]"
      ]
     },
     "execution_count": 155,
     "metadata": {},
     "output_type": "execute_result"
    }
   ],
   "source": [
    "data[\"Open\"] = data[\"Open\"].astype(\"float32\")\n",
    "data"
   ]
  },
  {
   "cell_type": "code",
   "execution_count": 156,
   "metadata": {
    "execution": {
     "iopub.execute_input": "2025-01-06T14:03:58.937915Z",
     "iopub.status.busy": "2025-01-06T14:03:58.937496Z",
     "iopub.status.idle": "2025-01-06T14:03:58.961461Z",
     "shell.execute_reply": "2025-01-06T14:03:58.960332Z",
     "shell.execute_reply.started": "2025-01-06T14:03:58.937854Z"
    },
    "trusted": true
   },
   "outputs": [
    {
     "data": {
      "text/plain": [
       "<bound method DataFrame.info of               id                      Date          Open          High  \\\n",
       "0     Stock_0000  2014-12-29 00:00:00+0530   8214.700195   8279.150391   \n",
       "1     Stock_0001  2014-12-30 00:00:00+0530   8260.299805   8268.250000   \n",
       "2     Stock_0002  2014-12-31 00:00:00+0530   8243.900391   8291.000000   \n",
       "3     Stock_0003  2015-01-02 00:00:00+0530   8288.700195   8410.599609   \n",
       "4     Stock_0004  2015-01-05 00:00:00+0530   8407.950195   8445.599609   \n",
       "...          ...                       ...           ...           ...   \n",
       "1963  Stock_1963  2022-12-21 00:00:00+0530  18435.150391  18473.349609   \n",
       "1964  Stock_1964  2022-12-22 00:00:00+0530  18288.800781  18318.750000   \n",
       "1965  Stock_1965  2022-12-23 00:00:00+0530  17977.650391  18050.449219   \n",
       "1966  Stock_1966  2022-12-26 00:00:00+0530  17830.400391  18084.099609   \n",
       "1967  Stock_1967  2022-12-27 00:00:00+0530  18089.800781  18149.250000   \n",
       "\n",
       "               Low         Close  Volume  Dividends  Stock Splits  \n",
       "0      8214.700195   8246.299805   82100        0.0           0.0  \n",
       "1      8220.549805   8248.250000   77700        0.0           0.0  \n",
       "2      8243.750000   8282.700195   84500        0.0           0.0  \n",
       "3      8288.700195   8395.450195  101900        0.0           0.0  \n",
       "4      8363.900391   8378.400391  118200        0.0           0.0  \n",
       "...            ...           ...     ...        ...           ...  \n",
       "1963  18162.750000  18199.099609  187600        0.0           0.0  \n",
       "1964  18068.599609  18127.349609  195700        0.0           0.0  \n",
       "1965  17779.500000  17806.800781  221500        0.0           0.0  \n",
       "1966  17774.250000  18014.599609  176700        0.0           0.0  \n",
       "1967  17967.449219  18132.300781  214300        0.0           0.0  \n",
       "\n",
       "[1968 rows x 9 columns]>"
      ]
     },
     "execution_count": 156,
     "metadata": {},
     "output_type": "execute_result"
    }
   ],
   "source": [
    "data.info"
   ]
  },
  {
   "cell_type": "code",
   "execution_count": 157,
   "metadata": {
    "execution": {
     "iopub.execute_input": "2025-01-06T14:03:58.963808Z",
     "iopub.status.busy": "2025-01-06T14:03:58.963525Z",
     "iopub.status.idle": "2025-01-06T14:03:58.989312Z",
     "shell.execute_reply": "2025-01-06T14:03:58.988236Z",
     "shell.execute_reply.started": "2025-01-06T14:03:58.963784Z"
    },
    "trusted": true
   },
   "outputs": [
    {
     "name": "stdout",
     "output_type": "stream",
     "text": [
      "Index(['id', 'Date', 'Open', 'High', 'Low', 'Close', 'Volume', 'Dividends',\n",
      "       'Stock Splits'],\n",
      "      dtype='object')\n"
     ]
    },
    {
     "data": {
      "text/plain": [
       "<bound method NDFrame.describe of               id                      Date          Open          High  \\\n",
       "0     Stock_0000  2014-12-29 00:00:00+0530   8214.700195   8279.150391   \n",
       "1     Stock_0001  2014-12-30 00:00:00+0530   8260.299805   8268.250000   \n",
       "2     Stock_0002  2014-12-31 00:00:00+0530   8243.900391   8291.000000   \n",
       "3     Stock_0003  2015-01-02 00:00:00+0530   8288.700195   8410.599609   \n",
       "4     Stock_0004  2015-01-05 00:00:00+0530   8407.950195   8445.599609   \n",
       "...          ...                       ...           ...           ...   \n",
       "1963  Stock_1963  2022-12-21 00:00:00+0530  18435.150391  18473.349609   \n",
       "1964  Stock_1964  2022-12-22 00:00:00+0530  18288.800781  18318.750000   \n",
       "1965  Stock_1965  2022-12-23 00:00:00+0530  17977.650391  18050.449219   \n",
       "1966  Stock_1966  2022-12-26 00:00:00+0530  17830.400391  18084.099609   \n",
       "1967  Stock_1967  2022-12-27 00:00:00+0530  18089.800781  18149.250000   \n",
       "\n",
       "               Low         Close  Volume  Dividends  Stock Splits  \n",
       "0      8214.700195   8246.299805   82100        0.0           0.0  \n",
       "1      8220.549805   8248.250000   77700        0.0           0.0  \n",
       "2      8243.750000   8282.700195   84500        0.0           0.0  \n",
       "3      8288.700195   8395.450195  101900        0.0           0.0  \n",
       "4      8363.900391   8378.400391  118200        0.0           0.0  \n",
       "...            ...           ...     ...        ...           ...  \n",
       "1963  18162.750000  18199.099609  187600        0.0           0.0  \n",
       "1964  18068.599609  18127.349609  195700        0.0           0.0  \n",
       "1965  17779.500000  17806.800781  221500        0.0           0.0  \n",
       "1966  17774.250000  18014.599609  176700        0.0           0.0  \n",
       "1967  17967.449219  18132.300781  214300        0.0           0.0  \n",
       "\n",
       "[1968 rows x 9 columns]>"
      ]
     },
     "execution_count": 157,
     "metadata": {},
     "output_type": "execute_result"
    }
   ],
   "source": [
    "print(data.columns)\n",
    "data.describe"
   ]
  },
  {
   "cell_type": "code",
   "execution_count": 158,
   "metadata": {
    "execution": {
     "iopub.execute_input": "2025-01-06T14:03:58.990810Z",
     "iopub.status.busy": "2025-01-06T14:03:58.990529Z",
     "iopub.status.idle": "2025-01-06T14:03:59.013056Z",
     "shell.execute_reply": "2025-01-06T14:03:59.011956Z",
     "shell.execute_reply.started": "2025-01-06T14:03:58.990786Z"
    },
    "trusted": true
   },
   "outputs": [
    {
     "data": {
      "text/plain": [
       "id              0\n",
       "Date            0\n",
       "Open            0\n",
       "High            0\n",
       "Low             0\n",
       "Close           0\n",
       "Volume          0\n",
       "Dividends       0\n",
       "Stock Splits    0\n",
       "dtype: int64"
      ]
     },
     "execution_count": 158,
     "metadata": {},
     "output_type": "execute_result"
    }
   ],
   "source": [
    "data.isnull().sum()"
   ]
  },
  {
   "cell_type": "code",
   "execution_count": 159,
   "metadata": {
    "execution": {
     "iopub.execute_input": "2025-01-06T14:03:59.014476Z",
     "iopub.status.busy": "2025-01-06T14:03:59.014188Z",
     "iopub.status.idle": "2025-01-06T14:03:59.029714Z",
     "shell.execute_reply": "2025-01-06T14:03:59.028818Z",
     "shell.execute_reply.started": "2025-01-06T14:03:59.014453Z"
    },
    "trusted": true
   },
   "outputs": [],
   "source": [
    "x_data=data.drop(\"Open\",axis=1)\n",
    "y_data=data[\"Open\"]"
   ]
  },
  {
   "cell_type": "code",
   "execution_count": 160,
   "metadata": {
    "execution": {
     "iopub.execute_input": "2025-01-06T14:03:59.031255Z",
     "iopub.status.busy": "2025-01-06T14:03:59.030906Z",
     "iopub.status.idle": "2025-01-06T14:03:59.052231Z",
     "shell.execute_reply": "2025-01-06T14:03:59.051222Z",
     "shell.execute_reply.started": "2025-01-06T14:03:59.031223Z"
    },
    "trusted": true
   },
   "outputs": [],
   "source": [
    "(x_train,x_test,y_train,y_test)=train_test_split(x_data,y_data,test_size=0.1,random_state=42)"
   ]
  },
  {
   "cell_type": "code",
   "execution_count": 161,
   "metadata": {
    "execution": {
     "iopub.execute_input": "2025-01-06T14:03:59.061088Z",
     "iopub.status.busy": "2025-01-06T14:03:59.060642Z",
     "iopub.status.idle": "2025-01-06T14:03:59.105242Z",
     "shell.execute_reply": "2025-01-06T14:03:59.103905Z",
     "shell.execute_reply.started": "2025-01-06T14:03:59.061046Z"
    },
    "trusted": true
   },
   "outputs": [],
   "source": [
    "def convertion_date(data):\n",
    "    data[\"Date\"]=pd.to_datetime(data[\"Date\"])\n",
    "    data[\"year\"]=data[\"Date\"].dt.year\n",
    "    data[\"month\"]=data[\"Date\"].dt.month\n",
    "    data[\"day\"]=data[\"Date\"].dt.day\n",
    "    data=data.drop(\"Date\",axis=1)\n",
    "    return data\n",
    "\n",
    "x_train=convertion_date(x_train)\n",
    "x_test=convertion_date(x_test)"
   ]
  },
  {
   "cell_type": "code",
   "execution_count": 162,
   "metadata": {
    "execution": {
     "iopub.execute_input": "2025-01-06T14:03:59.107271Z",
     "iopub.status.busy": "2025-01-06T14:03:59.106841Z",
     "iopub.status.idle": "2025-01-06T14:03:59.122570Z",
     "shell.execute_reply": "2025-01-06T14:03:59.121501Z",
     "shell.execute_reply.started": "2025-01-06T14:03:59.107233Z"
    },
    "trusted": true
   },
   "outputs": [
    {
     "data": {
      "text/html": [
       "<div>\n",
       "<style scoped>\n",
       "    .dataframe tbody tr th:only-of-type {\n",
       "        vertical-align: middle;\n",
       "    }\n",
       "\n",
       "    .dataframe tbody tr th {\n",
       "        vertical-align: top;\n",
       "    }\n",
       "\n",
       "    .dataframe thead th {\n",
       "        text-align: right;\n",
       "    }\n",
       "</style>\n",
       "<table border=\"1\" class=\"dataframe\">\n",
       "  <thead>\n",
       "    <tr style=\"text-align: right;\">\n",
       "      <th></th>\n",
       "      <th>id</th>\n",
       "      <th>High</th>\n",
       "      <th>Low</th>\n",
       "      <th>Close</th>\n",
       "      <th>Volume</th>\n",
       "      <th>Dividends</th>\n",
       "      <th>Stock Splits</th>\n",
       "      <th>year</th>\n",
       "      <th>month</th>\n",
       "      <th>day</th>\n",
       "    </tr>\n",
       "  </thead>\n",
       "  <tbody>\n",
       "    <tr>\n",
       "      <th>303</th>\n",
       "      <td>Stock_0303</td>\n",
       "      <td>7749.399902</td>\n",
       "      <td>7587.700195</td>\n",
       "      <td>7615.100098</td>\n",
       "      <td>242400</td>\n",
       "      <td>0.0</td>\n",
       "      <td>0.0</td>\n",
       "      <td>2016</td>\n",
       "      <td>3</td>\n",
       "      <td>28</td>\n",
       "    </tr>\n",
       "    <tr>\n",
       "      <th>1161</th>\n",
       "      <td>Stock_1161</td>\n",
       "      <td>11564.950195</td>\n",
       "      <td>11416.099609</td>\n",
       "      <td>11440.200195</td>\n",
       "      <td>629100</td>\n",
       "      <td>0.0</td>\n",
       "      <td>0.0</td>\n",
       "      <td>2019</td>\n",
       "      <td>9</td>\n",
       "      <td>25</td>\n",
       "    </tr>\n",
       "    <tr>\n",
       "      <th>1034</th>\n",
       "      <td>Stock_1034</td>\n",
       "      <td>11487.000000</td>\n",
       "      <td>11370.799805</td>\n",
       "      <td>11426.849609</td>\n",
       "      <td>463700</td>\n",
       "      <td>0.0</td>\n",
       "      <td>0.0</td>\n",
       "      <td>2019</td>\n",
       "      <td>3</td>\n",
       "      <td>15</td>\n",
       "    </tr>\n",
       "    <tr>\n",
       "      <th>1783</th>\n",
       "      <td>Stock_1783</td>\n",
       "      <td>17559.800781</td>\n",
       "      <td>17435.199219</td>\n",
       "      <td>17464.750000</td>\n",
       "      <td>281100</td>\n",
       "      <td>0.0</td>\n",
       "      <td>0.0</td>\n",
       "      <td>2022</td>\n",
       "      <td>3</td>\n",
       "      <td>31</td>\n",
       "    </tr>\n",
       "    <tr>\n",
       "      <th>1405</th>\n",
       "      <td>Stock_1405</td>\n",
       "      <td>11535.250000</td>\n",
       "      <td>11218.500000</td>\n",
       "      <td>11250.549805</td>\n",
       "      <td>602900</td>\n",
       "      <td>0.0</td>\n",
       "      <td>0.0</td>\n",
       "      <td>2020</td>\n",
       "      <td>9</td>\n",
       "      <td>21</td>\n",
       "    </tr>\n",
       "    <tr>\n",
       "      <th>585</th>\n",
       "      <td>Stock_0585</td>\n",
       "      <td>9498.650391</td>\n",
       "      <td>9427.900391</td>\n",
       "      <td>9438.250000</td>\n",
       "      <td>196800</td>\n",
       "      <td>0.0</td>\n",
       "      <td>0.0</td>\n",
       "      <td>2017</td>\n",
       "      <td>5</td>\n",
       "      <td>22</td>\n",
       "    </tr>\n",
       "    <tr>\n",
       "      <th>239</th>\n",
       "      <td>Stock_0239</td>\n",
       "      <td>7840.750000</td>\n",
       "      <td>7733.450195</td>\n",
       "      <td>7834.450195</td>\n",
       "      <td>126300</td>\n",
       "      <td>0.0</td>\n",
       "      <td>0.0</td>\n",
       "      <td>2015</td>\n",
       "      <td>12</td>\n",
       "      <td>21</td>\n",
       "    </tr>\n",
       "    <tr>\n",
       "      <th>1433</th>\n",
       "      <td>Stock_1433</td>\n",
       "      <td>11748.950195</td>\n",
       "      <td>11535.450195</td>\n",
       "      <td>11642.400391</td>\n",
       "      <td>553700</td>\n",
       "      <td>0.0</td>\n",
       "      <td>0.0</td>\n",
       "      <td>2020</td>\n",
       "      <td>10</td>\n",
       "      <td>30</td>\n",
       "    </tr>\n",
       "    <tr>\n",
       "      <th>1736</th>\n",
       "      <td>Stock_1736</td>\n",
       "      <td>17943.699219</td>\n",
       "      <td>17648.449219</td>\n",
       "      <td>17757.000000</td>\n",
       "      <td>258100</td>\n",
       "      <td>0.0</td>\n",
       "      <td>0.0</td>\n",
       "      <td>2022</td>\n",
       "      <td>1</td>\n",
       "      <td>20</td>\n",
       "    </tr>\n",
       "    <tr>\n",
       "      <th>986</th>\n",
       "      <td>Stock_0986</td>\n",
       "      <td>10741.049805</td>\n",
       "      <td>10628.650391</td>\n",
       "      <td>10727.349609</td>\n",
       "      <td>296600</td>\n",
       "      <td>0.0</td>\n",
       "      <td>0.0</td>\n",
       "      <td>2019</td>\n",
       "      <td>1</td>\n",
       "      <td>4</td>\n",
       "    </tr>\n",
       "  </tbody>\n",
       "</table>\n",
       "</div>"
      ],
      "text/plain": [
       "              id          High           Low         Close  Volume  Dividends  \\\n",
       "303   Stock_0303   7749.399902   7587.700195   7615.100098  242400        0.0   \n",
       "1161  Stock_1161  11564.950195  11416.099609  11440.200195  629100        0.0   \n",
       "1034  Stock_1034  11487.000000  11370.799805  11426.849609  463700        0.0   \n",
       "1783  Stock_1783  17559.800781  17435.199219  17464.750000  281100        0.0   \n",
       "1405  Stock_1405  11535.250000  11218.500000  11250.549805  602900        0.0   \n",
       "585   Stock_0585   9498.650391   9427.900391   9438.250000  196800        0.0   \n",
       "239   Stock_0239   7840.750000   7733.450195   7834.450195  126300        0.0   \n",
       "1433  Stock_1433  11748.950195  11535.450195  11642.400391  553700        0.0   \n",
       "1736  Stock_1736  17943.699219  17648.449219  17757.000000  258100        0.0   \n",
       "986   Stock_0986  10741.049805  10628.650391  10727.349609  296600        0.0   \n",
       "\n",
       "      Stock Splits  year  month  day  \n",
       "303            0.0  2016      3   28  \n",
       "1161           0.0  2019      9   25  \n",
       "1034           0.0  2019      3   15  \n",
       "1783           0.0  2022      3   31  \n",
       "1405           0.0  2020      9   21  \n",
       "585            0.0  2017      5   22  \n",
       "239            0.0  2015     12   21  \n",
       "1433           0.0  2020     10   30  \n",
       "1736           0.0  2022      1   20  \n",
       "986            0.0  2019      1    4  "
      ]
     },
     "execution_count": 162,
     "metadata": {},
     "output_type": "execute_result"
    }
   ],
   "source": [
    "x_train.head(10)"
   ]
  },
  {
   "cell_type": "code",
   "execution_count": 163,
   "metadata": {
    "execution": {
     "iopub.execute_input": "2025-01-06T14:03:59.124727Z",
     "iopub.status.busy": "2025-01-06T14:03:59.124404Z",
     "iopub.status.idle": "2025-01-06T14:03:59.140257Z",
     "shell.execute_reply": "2025-01-06T14:03:59.139472Z",
     "shell.execute_reply.started": "2025-01-06T14:03:59.124699Z"
    },
    "trusted": true
   },
   "outputs": [
    {
     "name": "stdout",
     "output_type": "stream",
     "text": [
      "(1771, 10)\n",
      "(1771,)\n",
      "(197, 10)\n",
      "(197,)\n"
     ]
    }
   ],
   "source": [
    "print(x_train.shape)\n",
    "print(y_train.shape)\n",
    "print(x_test.shape)\n",
    "print(y_test.shape)"
   ]
  },
  {
   "cell_type": "code",
   "execution_count": 164,
   "metadata": {
    "execution": {
     "iopub.execute_input": "2025-01-06T14:03:59.142267Z",
     "iopub.status.busy": "2025-01-06T14:03:59.141948Z",
     "iopub.status.idle": "2025-01-06T14:03:59.159680Z",
     "shell.execute_reply": "2025-01-06T14:03:59.158465Z",
     "shell.execute_reply.started": "2025-01-06T14:03:59.142244Z"
    },
    "trusted": true
   },
   "outputs": [
    {
     "data": {
      "text/plain": [
       "303      7741.000000\n",
       "1161    11564.849609\n",
       "1034    11376.849609\n",
       "1783    17519.199219\n",
       "1405    11503.799805\n",
       "            ...     \n",
       "1130    10958.099609\n",
       "1294     9196.400391\n",
       "860     10660.799805\n",
       "1459    13458.099609\n",
       "1126    11060.200195\n",
       "Name: Open, Length: 1771, dtype: float32"
      ]
     },
     "execution_count": 164,
     "metadata": {},
     "output_type": "execute_result"
    }
   ],
   "source": [
    "y_train"
   ]
  },
  {
   "cell_type": "code",
   "execution_count": 165,
   "metadata": {
    "execution": {
     "iopub.execute_input": "2025-01-06T14:03:59.161331Z",
     "iopub.status.busy": "2025-01-06T14:03:59.160957Z",
     "iopub.status.idle": "2025-01-06T14:03:59.183337Z",
     "shell.execute_reply": "2025-01-06T14:03:59.182287Z",
     "shell.execute_reply.started": "2025-01-06T14:03:59.161285Z"
    },
    "trusted": true
   },
   "outputs": [],
   "source": [
    "def encoding(data):\n",
    "    label_encoder = LabelEncoder()\n",
    "    data['id'] = label_encoder.fit_transform(data['id'])\n",
    "    return data\n",
    "    \n",
    "x_train=encoding(x_train)\n",
    "x_test=encoding(x_test)"
   ]
  },
  {
   "cell_type": "code",
   "execution_count": 166,
   "metadata": {
    "execution": {
     "iopub.execute_input": "2025-01-06T14:03:59.184797Z",
     "iopub.status.busy": "2025-01-06T14:03:59.184436Z",
     "iopub.status.idle": "2025-01-06T14:03:59.214465Z",
     "shell.execute_reply": "2025-01-06T14:03:59.213520Z",
     "shell.execute_reply.started": "2025-01-06T14:03:59.184762Z"
    },
    "trusted": true
   },
   "outputs": [
    {
     "data": {
      "text/html": [
       "<div>\n",
       "<style scoped>\n",
       "    .dataframe tbody tr th:only-of-type {\n",
       "        vertical-align: middle;\n",
       "    }\n",
       "\n",
       "    .dataframe tbody tr th {\n",
       "        vertical-align: top;\n",
       "    }\n",
       "\n",
       "    .dataframe thead th {\n",
       "        text-align: right;\n",
       "    }\n",
       "</style>\n",
       "<table border=\"1\" class=\"dataframe\">\n",
       "  <thead>\n",
       "    <tr style=\"text-align: right;\">\n",
       "      <th></th>\n",
       "      <th>id</th>\n",
       "      <th>High</th>\n",
       "      <th>Low</th>\n",
       "      <th>Close</th>\n",
       "      <th>Volume</th>\n",
       "      <th>Dividends</th>\n",
       "      <th>Stock Splits</th>\n",
       "      <th>year</th>\n",
       "      <th>month</th>\n",
       "      <th>day</th>\n",
       "    </tr>\n",
       "  </thead>\n",
       "  <tbody>\n",
       "    <tr>\n",
       "      <th>303</th>\n",
       "      <td>272</td>\n",
       "      <td>7749.399902</td>\n",
       "      <td>7587.700195</td>\n",
       "      <td>7615.100098</td>\n",
       "      <td>242400</td>\n",
       "      <td>0.0</td>\n",
       "      <td>0.0</td>\n",
       "      <td>2016</td>\n",
       "      <td>3</td>\n",
       "      <td>28</td>\n",
       "    </tr>\n",
       "    <tr>\n",
       "      <th>1161</th>\n",
       "      <td>1045</td>\n",
       "      <td>11564.950195</td>\n",
       "      <td>11416.099609</td>\n",
       "      <td>11440.200195</td>\n",
       "      <td>629100</td>\n",
       "      <td>0.0</td>\n",
       "      <td>0.0</td>\n",
       "      <td>2019</td>\n",
       "      <td>9</td>\n",
       "      <td>25</td>\n",
       "    </tr>\n",
       "    <tr>\n",
       "      <th>1034</th>\n",
       "      <td>931</td>\n",
       "      <td>11487.000000</td>\n",
       "      <td>11370.799805</td>\n",
       "      <td>11426.849609</td>\n",
       "      <td>463700</td>\n",
       "      <td>0.0</td>\n",
       "      <td>0.0</td>\n",
       "      <td>2019</td>\n",
       "      <td>3</td>\n",
       "      <td>15</td>\n",
       "    </tr>\n",
       "    <tr>\n",
       "      <th>1783</th>\n",
       "      <td>1602</td>\n",
       "      <td>17559.800781</td>\n",
       "      <td>17435.199219</td>\n",
       "      <td>17464.750000</td>\n",
       "      <td>281100</td>\n",
       "      <td>0.0</td>\n",
       "      <td>0.0</td>\n",
       "      <td>2022</td>\n",
       "      <td>3</td>\n",
       "      <td>31</td>\n",
       "    </tr>\n",
       "    <tr>\n",
       "      <th>1405</th>\n",
       "      <td>1265</td>\n",
       "      <td>11535.250000</td>\n",
       "      <td>11218.500000</td>\n",
       "      <td>11250.549805</td>\n",
       "      <td>602900</td>\n",
       "      <td>0.0</td>\n",
       "      <td>0.0</td>\n",
       "      <td>2020</td>\n",
       "      <td>9</td>\n",
       "      <td>21</td>\n",
       "    </tr>\n",
       "    <tr>\n",
       "      <th>...</th>\n",
       "      <td>...</td>\n",
       "      <td>...</td>\n",
       "      <td>...</td>\n",
       "      <td>...</td>\n",
       "      <td>...</td>\n",
       "      <td>...</td>\n",
       "      <td>...</td>\n",
       "      <td>...</td>\n",
       "      <td>...</td>\n",
       "      <td>...</td>\n",
       "    </tr>\n",
       "    <tr>\n",
       "      <th>1301</th>\n",
       "      <td>1169</td>\n",
       "      <td>9296.900391</td>\n",
       "      <td>9141.299805</td>\n",
       "      <td>9154.400391</td>\n",
       "      <td>659400</td>\n",
       "      <td>0.0</td>\n",
       "      <td>0.0</td>\n",
       "      <td>2020</td>\n",
       "      <td>4</td>\n",
       "      <td>24</td>\n",
       "    </tr>\n",
       "    <tr>\n",
       "      <th>9</th>\n",
       "      <td>9</td>\n",
       "      <td>8332.599609</td>\n",
       "      <td>8245.599609</td>\n",
       "      <td>8323.000000</td>\n",
       "      <td>103200</td>\n",
       "      <td>0.0</td>\n",
       "      <td>0.0</td>\n",
       "      <td>2015</td>\n",
       "      <td>1</td>\n",
       "      <td>12</td>\n",
       "    </tr>\n",
       "    <tr>\n",
       "      <th>449</th>\n",
       "      <td>401</td>\n",
       "      <td>8549.500000</td>\n",
       "      <td>8504.849609</td>\n",
       "      <td>8514.000000</td>\n",
       "      <td>155300</td>\n",
       "      <td>0.0</td>\n",
       "      <td>0.0</td>\n",
       "      <td>2016</td>\n",
       "      <td>11</td>\n",
       "      <td>2</td>\n",
       "    </tr>\n",
       "    <tr>\n",
       "      <th>708</th>\n",
       "      <td>633</td>\n",
       "      <td>10232.250000</td>\n",
       "      <td>10139.200195</td>\n",
       "      <td>10214.750000</td>\n",
       "      <td>182600</td>\n",
       "      <td>0.0</td>\n",
       "      <td>0.0</td>\n",
       "      <td>2017</td>\n",
       "      <td>11</td>\n",
       "      <td>16</td>\n",
       "    </tr>\n",
       "    <tr>\n",
       "      <th>255</th>\n",
       "      <td>229</td>\n",
       "      <td>7604.799805</td>\n",
       "      <td>7443.799805</td>\n",
       "      <td>7536.799805</td>\n",
       "      <td>200800</td>\n",
       "      <td>0.0</td>\n",
       "      <td>0.0</td>\n",
       "      <td>2016</td>\n",
       "      <td>1</td>\n",
       "      <td>14</td>\n",
       "    </tr>\n",
       "  </tbody>\n",
       "</table>\n",
       "<p>1000 rows × 10 columns</p>\n",
       "</div>"
      ],
      "text/plain": [
       "        id          High           Low         Close  Volume  Dividends  \\\n",
       "303    272   7749.399902   7587.700195   7615.100098  242400        0.0   \n",
       "1161  1045  11564.950195  11416.099609  11440.200195  629100        0.0   \n",
       "1034   931  11487.000000  11370.799805  11426.849609  463700        0.0   \n",
       "1783  1602  17559.800781  17435.199219  17464.750000  281100        0.0   \n",
       "1405  1265  11535.250000  11218.500000  11250.549805  602900        0.0   \n",
       "...    ...           ...           ...           ...     ...        ...   \n",
       "1301  1169   9296.900391   9141.299805   9154.400391  659400        0.0   \n",
       "9        9   8332.599609   8245.599609   8323.000000  103200        0.0   \n",
       "449    401   8549.500000   8504.849609   8514.000000  155300        0.0   \n",
       "708    633  10232.250000  10139.200195  10214.750000  182600        0.0   \n",
       "255    229   7604.799805   7443.799805   7536.799805  200800        0.0   \n",
       "\n",
       "      Stock Splits  year  month  day  \n",
       "303            0.0  2016      3   28  \n",
       "1161           0.0  2019      9   25  \n",
       "1034           0.0  2019      3   15  \n",
       "1783           0.0  2022      3   31  \n",
       "1405           0.0  2020      9   21  \n",
       "...            ...   ...    ...  ...  \n",
       "1301           0.0  2020      4   24  \n",
       "9              0.0  2015      1   12  \n",
       "449            0.0  2016     11    2  \n",
       "708            0.0  2017     11   16  \n",
       "255            0.0  2016      1   14  \n",
       "\n",
       "[1000 rows x 10 columns]"
      ]
     },
     "execution_count": 166,
     "metadata": {},
     "output_type": "execute_result"
    }
   ],
   "source": [
    "x_train.head(1000)"
   ]
  },
  {
   "cell_type": "code",
   "execution_count": 167,
   "metadata": {
    "execution": {
     "iopub.execute_input": "2025-01-06T14:03:59.216052Z",
     "iopub.status.busy": "2025-01-06T14:03:59.215635Z",
     "iopub.status.idle": "2025-01-06T14:03:59.236191Z",
     "shell.execute_reply": "2025-01-06T14:03:59.234963Z",
     "shell.execute_reply.started": "2025-01-06T14:03:59.216014Z"
    },
    "trusted": true
   },
   "outputs": [],
   "source": [
    "def new_features(data):\n",
    "    data['Price Range'] = data['High'] - data['Low']\n",
    "    data['Average Price'] = (data['High'] + data['Low']) / 2\n",
    "    return data\n",
    "x_train=new_features(x_train)\n",
    "x_test=new_features(x_test)"
   ]
  },
  {
   "cell_type": "code",
   "execution_count": 168,
   "metadata": {
    "execution": {
     "iopub.execute_input": "2025-01-06T14:03:59.239515Z",
     "iopub.status.busy": "2025-01-06T14:03:59.239256Z",
     "iopub.status.idle": "2025-01-06T14:03:59.255892Z",
     "shell.execute_reply": "2025-01-06T14:03:59.255077Z",
     "shell.execute_reply.started": "2025-01-06T14:03:59.239494Z"
    },
    "trusted": true
   },
   "outputs": [
    {
     "data": {
      "text/plain": [
       "Open\n",
       "10822.900391    1\n",
       "10808.700195    1\n",
       "11865.200195    1\n",
       "8393.950195     1\n",
       "9422.200195     1\n",
       "               ..\n",
       "12172.900391    1\n",
       "15026.750000    1\n",
       "9245.799805     1\n",
       "11959.849609    1\n",
       "16870.550781    1\n",
       "Name: count, Length: 197, dtype: int64"
      ]
     },
     "execution_count": 168,
     "metadata": {},
     "output_type": "execute_result"
    }
   ],
   "source": [
    "y_test.value_counts()"
   ]
  },
  {
   "cell_type": "code",
   "execution_count": 169,
   "metadata": {
    "execution": {
     "iopub.execute_input": "2025-01-06T14:03:59.257803Z",
     "iopub.status.busy": "2025-01-06T14:03:59.257481Z",
     "iopub.status.idle": "2025-01-06T14:03:59.280903Z",
     "shell.execute_reply": "2025-01-06T14:03:59.279803Z",
     "shell.execute_reply.started": "2025-01-06T14:03:59.257778Z"
    },
    "trusted": true
   },
   "outputs": [],
   "source": [
    "def standardize(data):\n",
    "    standard=StandardScaler()\n",
    "    data[[\"High\",\"Close\",\"Low\"]]=standard.fit_transform(data[[\"High\",\"Close\",\"Low\"]])\n",
    "    return data\n",
    "x_train=standardize(x_train)\n",
    "x_test=standardize(x_test)"
   ]
  },
  {
   "cell_type": "code",
   "execution_count": 170,
   "metadata": {
    "execution": {
     "iopub.execute_input": "2025-01-06T14:03:59.282261Z",
     "iopub.status.busy": "2025-01-06T14:03:59.282014Z",
     "iopub.status.idle": "2025-01-06T14:03:59.290228Z",
     "shell.execute_reply": "2025-01-06T14:03:59.289329Z",
     "shell.execute_reply.started": "2025-01-06T14:03:59.282239Z"
    },
    "trusted": true
   },
   "outputs": [],
   "source": [
    "y_train=pd.DataFrame(y_train)\n",
    "y_test=pd.DataFrame(y_test)"
   ]
  },
  {
   "cell_type": "code",
   "execution_count": 171,
   "metadata": {
    "execution": {
     "iopub.execute_input": "2025-01-06T14:03:59.291438Z",
     "iopub.status.busy": "2025-01-06T14:03:59.291118Z",
     "iopub.status.idle": "2025-01-06T14:03:59.315779Z",
     "shell.execute_reply": "2025-01-06T14:03:59.314644Z",
     "shell.execute_reply.started": "2025-01-06T14:03:59.291403Z"
    },
    "trusted": true
   },
   "outputs": [],
   "source": [
    "def standardize(data):\n",
    "    standard=StandardScaler()\n",
    "    data[[\"Open\"]]=standard.fit_transform(data[[\"Open\"]])\n",
    "    return data\n",
    "\n",
    "y_train=standardize(y_train)\n",
    "y_test=standardize(y_test)"
   ]
  },
  {
   "cell_type": "code",
   "execution_count": 172,
   "metadata": {
    "execution": {
     "iopub.execute_input": "2025-01-06T14:03:59.317198Z",
     "iopub.status.busy": "2025-01-06T14:03:59.316901Z",
     "iopub.status.idle": "2025-01-06T14:03:59.331012Z",
     "shell.execute_reply": "2025-01-06T14:03:59.329980Z",
     "shell.execute_reply.started": "2025-01-06T14:03:59.317174Z"
    },
    "trusted": true
   },
   "outputs": [],
   "source": [
    "import numpy as np\n",
    "import pandas as pd\n",
    "import matplotlib.pyplot as plt\n",
    "from tensorflow.keras.layers import Dense,LSTM,Dropout,Conv2D,BatchNormalization,Flatten,Bidirectional,Reshape,GRU\n",
    "from sklearn.preprocessing import StandardScaler\n",
    "from sklearn.model_selection import train_test_split\n",
    "from sklearn.decomposition import PCA\n",
    "from tensorflow.keras.models import Sequential"
   ]
  },
  {
   "cell_type": "code",
   "execution_count": 173,
   "metadata": {
    "execution": {
     "iopub.execute_input": "2025-01-06T14:03:59.332451Z",
     "iopub.status.busy": "2025-01-06T14:03:59.332100Z",
     "iopub.status.idle": "2025-01-06T14:03:59.349803Z",
     "shell.execute_reply": "2025-01-06T14:03:59.348821Z",
     "shell.execute_reply.started": "2025-01-06T14:03:59.332418Z"
    },
    "trusted": true
   },
   "outputs": [],
   "source": [
    "def normie():\n",
    "    model = Sequential([\n",
    "        Dense(256, activation='relu', input_shape=(x_train.shape[1],), kernel_regularizer='l2'),\n",
    "        Dropout(0.2),\n",
    "        Dense(128, activation='relu', kernel_regularizer='l2'),\n",
    "        BatchNormalization(),\n",
    "        Dropout(0.2),\n",
    "        Dense(64, activation='relu'),\n",
    "        Dense(1, activation='linear')\n",
    "    ])\n",
    "    return model"
   ]
  },
  {
   "cell_type": "code",
   "execution_count": 174,
   "metadata": {
    "execution": {
     "iopub.execute_input": "2025-01-06T14:03:59.350969Z",
     "iopub.status.busy": "2025-01-06T14:03:59.350666Z",
     "iopub.status.idle": "2025-01-06T14:03:59.373251Z",
     "shell.execute_reply": "2025-01-06T14:03:59.372258Z",
     "shell.execute_reply.started": "2025-01-06T14:03:59.350944Z"
    },
    "trusted": true
   },
   "outputs": [
    {
     "data": {
      "text/plain": [
       "'def model_bi():\\n      model = Sequential()\\n\\n      # First BiLSTM layer (return_sequences=True for stacking multiple layers)\\n      model.add(Bidirectional(LSTM(64, return_sequences=True), input_shape=(10, 1)))\\n      model.add(Dropout(0.3))\\n\\n      # Second BiLSTM layer (return_sequences=True to pass the sequence to the next layer)\\n      model.add(Bidirectional(LSTM(64, return_sequences=True)))\\n      model.add(Dropout(0.3))\\n\\n      # Final BiLSTM layer (return_sequences=False to output final sequence representation)\\n      model.add(Bidirectional(LSTM(64, return_sequences=False)))\\n      model.add(Dropout(0.3))\\n\\n      model.add(Dense(64, activation=\"relu\"))\\n\\n      model.add(Dense(3, activation=\"softmax\"))\\n      return model'"
      ]
     },
     "execution_count": 174,
     "metadata": {},
     "output_type": "execute_result"
    }
   ],
   "source": [
    "'''def model_bi():\n",
    "      model = Sequential()\n",
    "\n",
    "      # First BiLSTM layer (return_sequences=True for stacking multiple layers)\n",
    "      model.add(Bidirectional(LSTM(64, return_sequences=True), input_shape=(10, 1)))\n",
    "      model.add(Dropout(0.3))\n",
    "\n",
    "      # Second BiLSTM layer (return_sequences=True to pass the sequence to the next layer)\n",
    "      model.add(Bidirectional(LSTM(64, return_sequences=True)))\n",
    "      model.add(Dropout(0.3))\n",
    "\n",
    "      # Final BiLSTM layer (return_sequences=False to output final sequence representation)\n",
    "      model.add(Bidirectional(LSTM(64, return_sequences=False)))\n",
    "      model.add(Dropout(0.3))\n",
    "\n",
    "      model.add(Dense(64, activation=\"relu\"))\n",
    "\n",
    "      model.add(Dense(3, activation=\"softmax\"))\n",
    "      return model'''"
   ]
  },
  {
   "cell_type": "code",
   "execution_count": 175,
   "metadata": {
    "execution": {
     "iopub.execute_input": "2025-01-06T14:03:59.374411Z",
     "iopub.status.busy": "2025-01-06T14:03:59.374077Z",
     "iopub.status.idle": "2025-01-06T14:03:59.435918Z",
     "shell.execute_reply": "2025-01-06T14:03:59.434827Z",
     "shell.execute_reply.started": "2025-01-06T14:03:59.374374Z"
    },
    "trusted": true
   },
   "outputs": [
    {
     "name": "stderr",
     "output_type": "stream",
     "text": [
      "/usr/local/lib/python3.10/dist-packages/keras/src/layers/core/dense.py:87: UserWarning: Do not pass an `input_shape`/`input_dim` argument to a layer. When using Sequential models, prefer using an `Input(shape)` object as the first layer in the model instead.\n",
      "  super().__init__(activity_regularizer=activity_regularizer, **kwargs)\n"
     ]
    }
   ],
   "source": [
    "model = normie()"
   ]
  },
  {
   "cell_type": "code",
   "execution_count": 176,
   "metadata": {
    "execution": {
     "iopub.execute_input": "2025-01-06T14:03:59.437213Z",
     "iopub.status.busy": "2025-01-06T14:03:59.436937Z",
     "iopub.status.idle": "2025-01-06T14:03:59.447077Z",
     "shell.execute_reply": "2025-01-06T14:03:59.445974Z",
     "shell.execute_reply.started": "2025-01-06T14:03:59.437176Z"
    },
    "trusted": true
   },
   "outputs": [],
   "source": [
    "model.compile(loss=\"mse\",optimizer=\"adam\",metrics=[\"mse\"])"
   ]
  },
  {
   "cell_type": "code",
   "execution_count": 177,
   "metadata": {
    "execution": {
     "iopub.execute_input": "2025-01-06T14:03:59.448387Z",
     "iopub.status.busy": "2025-01-06T14:03:59.448037Z",
     "iopub.status.idle": "2025-01-06T14:04:05.199496Z",
     "shell.execute_reply": "2025-01-06T14:04:05.198547Z",
     "shell.execute_reply.started": "2025-01-06T14:03:59.448350Z"
    },
    "trusted": true
   },
   "outputs": [
    {
     "name": "stdout",
     "output_type": "stream",
     "text": [
      "Epoch 1/20\n",
      "\u001b[1m56/56\u001b[0m \u001b[32m━━━━━━━━━━━━━━━━━━━━\u001b[0m\u001b[37m\u001b[0m \u001b[1m2s\u001b[0m 6ms/step - loss: 3.3691 - mse: 1.7393 - val_loss: 2.7035 - val_mse: 1.6811\n",
      "Epoch 2/20\n",
      "\u001b[1m56/56\u001b[0m \u001b[32m━━━━━━━━━━━━━━━━━━━━\u001b[0m\u001b[37m\u001b[0m \u001b[1m0s\u001b[0m 3ms/step - loss: 1.8391 - mse: 0.9051 - val_loss: 2.2230 - val_mse: 1.4597\n",
      "Epoch 3/20\n",
      "\u001b[1m56/56\u001b[0m \u001b[32m━━━━━━━━━━━━━━━━━━━━\u001b[0m\u001b[37m\u001b[0m \u001b[1m0s\u001b[0m 3ms/step - loss: 1.5512 - mse: 0.8120 - val_loss: 1.4189 - val_mse: 0.7276\n",
      "Epoch 4/20\n",
      "\u001b[1m56/56\u001b[0m \u001b[32m━━━━━━━━━━━━━━━━━━━━\u001b[0m\u001b[37m\u001b[0m \u001b[1m0s\u001b[0m 3ms/step - loss: 1.3189 - mse: 0.6333 - val_loss: 1.5918 - val_mse: 0.9188\n",
      "Epoch 5/20\n",
      "\u001b[1m56/56\u001b[0m \u001b[32m━━━━━━━━━━━━━━━━━━━━\u001b[0m\u001b[37m\u001b[0m \u001b[1m0s\u001b[0m 3ms/step - loss: 1.1479 - mse: 0.4813 - val_loss: 1.0733 - val_mse: 0.4309\n",
      "Epoch 6/20\n",
      "\u001b[1m56/56\u001b[0m \u001b[32m━━━━━━━━━━━━━━━━━━━━\u001b[0m\u001b[37m\u001b[0m \u001b[1m0s\u001b[0m 3ms/step - loss: 1.0869 - mse: 0.4527 - val_loss: 0.8530 - val_mse: 0.2503\n",
      "Epoch 7/20\n",
      "\u001b[1m56/56\u001b[0m \u001b[32m━━━━━━━━━━━━━━━━━━━━\u001b[0m\u001b[37m\u001b[0m \u001b[1m0s\u001b[0m 3ms/step - loss: 0.9565 - mse: 0.3631 - val_loss: 0.7195 - val_mse: 0.1568\n",
      "Epoch 8/20\n",
      "\u001b[1m56/56\u001b[0m \u001b[32m━━━━━━━━━━━━━━━━━━━━\u001b[0m\u001b[37m\u001b[0m \u001b[1m0s\u001b[0m 3ms/step - loss: 0.8796 - mse: 0.3259 - val_loss: 0.7181 - val_mse: 0.1924\n",
      "Epoch 9/20\n",
      "\u001b[1m56/56\u001b[0m \u001b[32m━━━━━━━━━━━━━━━━━━━━\u001b[0m\u001b[37m\u001b[0m \u001b[1m0s\u001b[0m 3ms/step - loss: 0.8213 - mse: 0.3034 - val_loss: 0.6297 - val_mse: 0.1373\n",
      "Epoch 10/20\n",
      "\u001b[1m56/56\u001b[0m \u001b[32m━━━━━━━━━━━━━━━━━━━━\u001b[0m\u001b[37m\u001b[0m \u001b[1m0s\u001b[0m 3ms/step - loss: 0.7739 - mse: 0.2892 - val_loss: 0.6050 - val_mse: 0.1445\n",
      "Epoch 11/20\n",
      "\u001b[1m56/56\u001b[0m \u001b[32m━━━━━━━━━━━━━━━━━━━━\u001b[0m\u001b[37m\u001b[0m \u001b[1m0s\u001b[0m 3ms/step - loss: 0.7530 - mse: 0.2991 - val_loss: 0.7413 - val_mse: 0.3095\n",
      "Epoch 12/20\n",
      "\u001b[1m56/56\u001b[0m \u001b[32m━━━━━━━━━━━━━━━━━━━━\u001b[0m\u001b[37m\u001b[0m \u001b[1m0s\u001b[0m 3ms/step - loss: 0.6565 - mse: 0.2305 - val_loss: 0.6662 - val_mse: 0.2603\n",
      "Epoch 13/20\n",
      "\u001b[1m56/56\u001b[0m \u001b[32m━━━━━━━━━━━━━━━━━━━━\u001b[0m\u001b[37m\u001b[0m \u001b[1m0s\u001b[0m 3ms/step - loss: 0.6187 - mse: 0.2186 - val_loss: 0.6222 - val_mse: 0.2408\n",
      "Epoch 14/20\n",
      "\u001b[1m56/56\u001b[0m \u001b[32m━━━━━━━━━━━━━━━━━━━━\u001b[0m\u001b[37m\u001b[0m \u001b[1m0s\u001b[0m 3ms/step - loss: 0.6153 - mse: 0.2387 - val_loss: 0.4505 - val_mse: 0.0902\n",
      "Epoch 15/20\n",
      "\u001b[1m56/56\u001b[0m \u001b[32m━━━━━━━━━━━━━━━━━━━━\u001b[0m\u001b[37m\u001b[0m \u001b[1m0s\u001b[0m 3ms/step - loss: 0.6264 - mse: 0.2698 - val_loss: 0.6324 - val_mse: 0.2863\n",
      "Epoch 16/20\n",
      "\u001b[1m56/56\u001b[0m \u001b[32m━━━━━━━━━━━━━━━━━━━━\u001b[0m\u001b[37m\u001b[0m \u001b[1m0s\u001b[0m 3ms/step - loss: 0.5366 - mse: 0.1957 - val_loss: 0.4889 - val_mse: 0.1622\n",
      "Epoch 17/20\n",
      "\u001b[1m56/56\u001b[0m \u001b[32m━━━━━━━━━━━━━━━━━━━━\u001b[0m\u001b[37m\u001b[0m \u001b[1m0s\u001b[0m 3ms/step - loss: 0.5224 - mse: 0.2010 - val_loss: 0.5734 - val_mse: 0.2656\n",
      "Epoch 18/20\n",
      "\u001b[1m56/56\u001b[0m \u001b[32m━━━━━━━━━━━━━━━━━━━━\u001b[0m\u001b[37m\u001b[0m \u001b[1m0s\u001b[0m 3ms/step - loss: 0.5038 - mse: 0.2004 - val_loss: 62.1442 - val_mse: 61.8519\n",
      "Epoch 19/20\n",
      "\u001b[1m56/56\u001b[0m \u001b[32m━━━━━━━━━━━━━━━━━━━━\u001b[0m\u001b[37m\u001b[0m \u001b[1m0s\u001b[0m 3ms/step - loss: 0.4864 - mse: 0.1968 - val_loss: 0.7537 - val_mse: 0.4719\n",
      "Epoch 20/20\n",
      "\u001b[1m56/56\u001b[0m \u001b[32m━━━━━━━━━━━━━━━━━━━━\u001b[0m\u001b[37m\u001b[0m \u001b[1m0s\u001b[0m 3ms/step - loss: 0.4801 - mse: 0.2022 - val_loss: 0.6281 - val_mse: 0.3620\n"
     ]
    },
    {
     "data": {
      "text/plain": [
       "<keras.src.callbacks.history.History at 0x7abb75295990>"
      ]
     },
     "execution_count": 177,
     "metadata": {},
     "output_type": "execute_result"
    }
   ],
   "source": [
    "model.fit(x_train,y_train,epochs=20,validation_data=(x_test,y_test))"
   ]
  },
  {
   "cell_type": "code",
   "execution_count": 179,
   "metadata": {
    "execution": {
     "iopub.execute_input": "2025-01-06T14:04:41.140059Z",
     "iopub.status.busy": "2025-01-06T14:04:41.139653Z",
     "iopub.status.idle": "2025-01-06T14:04:41.795133Z",
     "shell.execute_reply": "2025-01-06T14:04:41.794071Z",
     "shell.execute_reply.started": "2025-01-06T14:04:41.140026Z"
    },
    "trusted": true
   },
   "outputs": [
    {
     "name": "stdout",
     "output_type": "stream",
     "text": [
      "\u001b[1m16/16\u001b[0m \u001b[32m━━━━━━━━━━━━━━━━━━━━\u001b[0m\u001b[37m\u001b[0m \u001b[1m1s\u001b[0m 33ms/step\n",
      "Submission file created successfully!\n"
     ]
    }
   ],
   "source": [
    "test_data = pd.read_csv(\"/kaggle/input/xdbfkjs-db/test.csv\")\n",
    "\n",
    "\n",
    "def preprocess_test_data(data):\n",
    "\n",
    "    data = convertion_date(data)\n",
    "    \n",
    "    \n",
    "    data = encoding(data)\n",
    "\n",
    "\n",
    "    data = new_features(data)\n",
    "    \n",
    " \n",
    "    standard = StandardScaler()\n",
    "    data[[\"High\", \"Close\", \"Low\"]] = standard.fit_transform(data[[\"High\", \"Close\", \"Low\"]])\n",
    "    \n",
    "    return data\n",
    "\n",
    "\n",
    "x_test_processed = preprocess_test_data(test_data)\n",
    "\n",
    "predictions = model.predict(x_test_processed)\n",
    "\n",
    "scaler = StandardScaler()\n",
    "scaler.fit(data[['Open']]) \n",
    "predictions_original_scale = scaler.inverse_transform(predictions)\n",
    "\n",
    "\n",
    "submission = pd.DataFrame({\n",
    "    'id': test_data['id'],  \n",
    "    'Open': predictions_original_scale.flatten()  \n",
    "})\n",
    "\n",
    "\n",
    "submission.to_csv('submission.csv', index=False)\n",
    "\n",
    "print(\"Submission file created successfully!\")\n"
   ]
  },
  {
   "cell_type": "code",
   "execution_count": 180,
   "metadata": {
    "execution": {
     "iopub.execute_input": "2025-01-06T14:04:43.113246Z",
     "iopub.status.busy": "2025-01-06T14:04:43.112915Z",
     "iopub.status.idle": "2025-01-06T14:04:43.120696Z",
     "shell.execute_reply": "2025-01-06T14:04:43.119624Z",
     "shell.execute_reply.started": "2025-01-06T14:04:43.113221Z"
    },
    "trusted": true
   },
   "outputs": [],
   "source": [
    "submission=pd.read_csv(\"/kaggle/working/submission.csv\")"
   ]
  },
  {
   "cell_type": "code",
   "execution_count": null,
   "metadata": {
    "execution": {
     "iopub.status.busy": "2025-01-06T14:04:05.273384Z",
     "iopub.status.idle": "2025-01-06T14:04:05.273703Z",
     "shell.execute_reply": "2025-01-06T14:04:05.273576Z"
    },
    "trusted": true
   },
   "outputs": [],
   "source": [
    "submission.head()"
   ]
  },
  {
   "cell_type": "code",
   "execution_count": null,
   "metadata": {
    "trusted": true
   },
   "outputs": [],
   "source": []
  }
 ],
 "metadata": {
  "kaggle": {
   "accelerator": "none",
   "dataSources": [
    {
     "databundleVersionId": 10632121,
     "sourceId": 90870,
     "sourceType": "competition"
    }
   ],
   "dockerImageVersionId": 30822,
   "isGpuEnabled": false,
   "isInternetEnabled": false,
   "language": "python",
   "sourceType": "notebook"
  },
  "kernelspec": {
   "display_name": "Python 3",
   "language": "python",
   "name": "python3"
  },
  "language_info": {
   "codemirror_mode": {
    "name": "ipython",
    "version": 3
   },
   "file_extension": ".py",
   "mimetype": "text/x-python",
   "name": "python",
   "nbconvert_exporter": "python",
   "pygments_lexer": "ipython3",
   "version": "3.10.12"
  }
 },
 "nbformat": 4,
 "nbformat_minor": 4
}
